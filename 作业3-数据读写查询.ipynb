{
 "cells": [
  {
   "cell_type": "code",
   "execution_count": 13,
   "metadata": {},
   "outputs": [],
   "source": [
    "import pandas as pd"
   ]
  },
  {
   "cell_type": "code",
   "execution_count": 14,
   "metadata": {},
   "outputs": [],
   "source": [
    "作业信息提交 = pd.read_csv(R'data\\课程第一次作业提交信息.csv',encoding='GBK',usecols=['姓名','学号','Github仓库地址'])"
   ]
  },
  {
   "cell_type": "code",
   "execution_count": 15,
   "metadata": {},
   "outputs": [],
   "source": [
    "作业信息提交.to_csv(R'output/csv读写结果.csv',index=False)"
   ]
  },
  {
   "cell_type": "code",
   "execution_count": 16,
   "metadata": {},
   "outputs": [],
   "source": [
    "# 读取Excel文件\n",
    "原始数据 = R'data\\000_《统计与数据分析》课程第一次作业收集_提交统计.xlsx'  \n",
    "工作表 = '提交清单'  # 替换为你要读取的工作表名称\n",
    "列名列表 = ['姓名', '学号', 'Github仓库地址']  # 替换为你要读取的列名列表\n",
    "\n",
    "# 读取指定列数据\n",
    "df1 = pd.read_excel(原始数据, sheet_name=工作表, usecols=列名列表)"
   ]
  },
  {
   "cell_type": "code",
   "execution_count": 17,
   "metadata": {},
   "outputs": [],
   "source": [
    "df1.to_excel('output/excel写入练习.xlsx',index=False)"
   ]
  },
  {
   "cell_type": "code",
   "execution_count": 18,
   "metadata": {},
   "outputs": [],
   "source": [
    "# 读写SPSS的sav格式数据\n",
    "df2 = pd.read_spss(R'data\\企业形象调查原始数据.sav')"
   ]
  },
  {
   "cell_type": "code",
   "execution_count": 19,
   "metadata": {},
   "outputs": [],
   "source": [
    "import pyreadstat"
   ]
  },
  {
   "cell_type": "code",
   "execution_count": 20,
   "metadata": {},
   "outputs": [],
   "source": [
    "df3,mata = pyreadstat.read_sav('data\\企业形象调查原始数据.sav',formats_as_ordered_category = True)"
   ]
  },
  {
   "cell_type": "code",
   "execution_count": 21,
   "metadata": {},
   "outputs": [],
   "source": [
    "df3.to_excel('output/sav数据zhuancun.xlsx')"
   ]
  },
  {
   "cell_type": "code",
   "execution_count": 22,
   "metadata": {},
   "outputs": [],
   "source": [
    "# 读取pdf中的表格数据\n",
    "import pdfplumber\n",
    "\n",
    "pdf = pdfplumber.open('data\\高考核心词汇1278.pdf')\n",
    "\n",
    "table = []\n",
    "for i in range(len(pdf.pages) - 1):\n",
    "    page = pdf.pages[i + 1]\n",
    "    table.extend(page.extract_table())\n",
    "table1_df = pd.DataFrame(table[2:])"
   ]
  },
  {
   "cell_type": "code",
   "execution_count": 24,
   "metadata": {},
   "outputs": [],
   "source": [
    "table1_df.to_excel('output/pdf表格数据提取.xlsx')"
   ]
  }
 ],
 "metadata": {
  "kernelspec": {
   "display_name": "Python 3",
   "language": "python",
   "name": "python3"
  },
  "language_info": {
   "codemirror_mode": {
    "name": "ipython",
    "version": 3
   },
   "file_extension": ".py",
   "mimetype": "text/x-python",
   "name": "python",
   "nbconvert_exporter": "python",
   "pygments_lexer": "ipython3",
   "version": "3.10.11"
  },
  "orig_nbformat": 4
 },
 "nbformat": 4,
 "nbformat_minor": 2
}
