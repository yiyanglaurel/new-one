{
 "cells": [
  {
   "cell_type": "code",
   "execution_count": 3,
   "metadata": {},
   "outputs": [],
   "source": [
    "students = [\n",
    "{\"姓名\": \"张三\", \"学号\": \"20230001\", \"GitHub仓库地址\": \"https://github.com/zhangsan\"},\n",
    "{\"姓名\": \"李四\", \"学号\": \"20230002\", \"GitHub仓库地址\": \"https://github.com/lisi\"},\n",
    "{\"姓名\": \"王五\", \"学号\": \"20230003\", \"GitHub仓库地址\": \"https://github.com/wangwu\"}, \n",
    "{\"姓名\": \"赵六\", \"学号\": \"20230004\", \"GitHub仓库地址\": \"https://github.com/zhaoliu\"},  \n",
    "{\"姓名\": \"孙七\", \"学号\": \"20230005\", \"GitHub仓库地址\": \"https://github.com/sunqi\"},  \n",
    "{\"姓名\": \"周八\", \"学号\": \"20230006\", \"GitHub仓库地址\": \"https://github.com/zhouba\"},  \n",
    "{\"姓名\": \"吴九\", \"学号\": \"20230007\", \"GitHub仓库地址\": \"https://github.com/wujiu\"},\n",
    "{\"姓名\": \"郑十\", \"学号\": \"20230008\", \"GitHub仓库地址\": \"https://github.com/zhengshi\"},\n",
    "{\"姓名\": \"陈一\", \"学号\": \"20230009\", \"GitHub仓库地址\": \"https://github.com/chenyi\"}, \n",
    "{\"姓名\": \"林二\", \"学号\": \"20230010\", \"GitHub仓库地址\": \"https://github.com/liner\"},\n",
    "]\n",
    "\n",
    "# 指定要筛选的姓名\n",
    "target_name = \"李四\"\n",
    "#使用for循环筛选出指定姓名的同学的GitHub仓库地址\n",
    "for student in students:\n",
    "    if [\"姓名\"] == target_name:\n",
    "       print(student[\"GitHub仓库地址\"])"
   ]
  },
  {
   "cell_type": "code",
   "execution_count": 55,
   "metadata": {},
   "outputs": [],
   "source": [
    "def get_repo_by_name(name,data):\n",
    "    for i in data:\n",
    "        if i[\"姓名\"] == name:\n",
    "            print(i[\"GitHub仓库地址\"])"
   ]
  },
  {
   "cell_type": "code",
   "execution_count": 56,
   "metadata": {},
   "outputs": [
    {
     "name": "stdout",
     "output_type": "stream",
     "text": [
      "https://github.com/lisi\n",
      "None\n"
     ]
    }
   ],
   "source": [
    "print(get_repo_by_name('李四',students))"
   ]
  }
 ],
 "metadata": {
  "kernelspec": {
   "display_name": "Python 3",
   "language": "python",
   "name": "python3"
  },
  "language_info": {
   "codemirror_mode": {
    "name": "ipython",
    "version": 3
   },
   "file_extension": ".py",
   "mimetype": "text/x-python",
   "name": "python",
   "nbconvert_exporter": "python",
   "pygments_lexer": "ipython3",
   "version": "3.10.11"
  },
  "orig_nbformat": 4
 },
 "nbformat": 4,
 "nbformat_minor": 2
}
