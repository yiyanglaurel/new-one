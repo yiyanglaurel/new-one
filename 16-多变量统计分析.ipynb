{
 "cells": [
  {
   "cell_type": "code",
   "execution_count": 1,
   "metadata": {},
   "outputs": [],
   "source": [
    "import pandas as pd\n",
    "import mytools"
   ]
  },
  {
   "cell_type": "code",
   "execution_count": 2,
   "metadata": {},
   "outputs": [
    {
     "ename": "ReadstatError",
     "evalue": "Invalid file, or file has unsupported features",
     "output_type": "error",
     "traceback": [
      "\u001b[1;31m---------------------------------------------------------------------------\u001b[0m",
      "\u001b[1;31mReadstatError\u001b[0m                             Traceback (most recent call last)",
      "Cell \u001b[1;32mIn[2], line 1\u001b[0m\n\u001b[1;32m----> 1\u001b[0m 数据表 \u001b[38;5;241m=\u001b[39m \u001b[43mmytools\u001b[49m\u001b[38;5;241;43m.\u001b[39;49m\u001b[43m读取SPSS数据文件\u001b[49m\u001b[43m(\u001b[49m\u001b[38;5;124;43mR\u001b[39;49m\u001b[38;5;124;43m'\u001b[39;49m\u001b[38;5;124;43mdata\u001b[39;49m\u001b[38;5;124;43m\\\u001b[39;49m\u001b[38;5;124;43m国家认同数据清理后.sav\u001b[39;49m\u001b[38;5;124;43m'\u001b[39;49m\u001b[43m,\u001b[49m\u001b[43m \u001b[49m\u001b[38;5;28;43;01mTrue\u001b[39;49;00m\u001b[43m)\u001b[49m\n\u001b[0;32m      2\u001b[0m 数据表\u001b[38;5;241m.\u001b[39mcolumns\n",
      "File \u001b[1;32mc:\\Users\\18152\\Desktop\\new-one\\mytools.py:13\u001b[0m, in \u001b[0;36m读取SPSS数据文件\u001b[1;34m(文件位置及名称, 是否保留标签值)\u001b[0m\n\u001b[0;32m     12\u001b[0m \u001b[38;5;28;01mdef\u001b[39;00m \u001b[38;5;21m读取SPSS数据文件\u001b[39m(文件位置及名称, 是否保留标签值: \u001b[38;5;28mbool\u001b[39m):\n\u001b[1;32m---> 13\u001b[0m     数据表, metadata \u001b[38;5;241m=\u001b[39m \u001b[43mpyreadstat\u001b[49m\u001b[38;5;241;43m.\u001b[39;49m\u001b[43mread_sav\u001b[49m\u001b[43m(\u001b[49m\n\u001b[0;32m     14\u001b[0m \u001b[43m        \u001b[49m\u001b[43m文件位置及名称\u001b[49m\u001b[43m,\u001b[49m\u001b[43m \u001b[49m\u001b[43mapply_value_formats\u001b[49m\u001b[38;5;241;43m=\u001b[39;49m\u001b[43m是否保留标签值\u001b[49m\u001b[43m,\u001b[49m\u001b[43m \u001b[49m\u001b[43mformats_as_ordered_category\u001b[49m\u001b[38;5;241;43m=\u001b[39;49m\u001b[38;5;28;43;01mTrue\u001b[39;49;00m\u001b[43m)\u001b[49m\n\u001b[0;32m     15\u001b[0m     \u001b[38;5;28;01mreturn\u001b[39;00m 数据表\n",
      "File \u001b[1;32mpyreadstat\\\\pyreadstat.pyx:388\u001b[0m, in \u001b[0;36mpyreadstat.pyreadstat.read_sav\u001b[1;34m()\u001b[0m\n",
      "File \u001b[1;32mpyreadstat\\\\_readstat_parser.pyx:1127\u001b[0m, in \u001b[0;36mpyreadstat._readstat_parser.run_conversion\u001b[1;34m()\u001b[0m\n",
      "File \u001b[1;32mpyreadstat\\\\_readstat_parser.pyx:874\u001b[0m, in \u001b[0;36mpyreadstat._readstat_parser.run_readstat_parser\u001b[1;34m()\u001b[0m\n",
      "File \u001b[1;32mpyreadstat\\\\_readstat_parser.pyx:796\u001b[0m, in \u001b[0;36mpyreadstat._readstat_parser.check_exit_status\u001b[1;34m()\u001b[0m\n",
      "\u001b[1;31mReadstatError\u001b[0m: Invalid file, or file has unsupported features"
     ]
    }
   ],
   "source": [
    "数据表 = mytools.读取SPSS数据文件(R'data\\国家认同数据清理后.sav', True)\n",
    "数据表.columns"
   ]
  },
  {
   "cell_type": "code",
   "execution_count": null,
   "metadata": {},
   "outputs": [],
   "source": []
  }
 ],
 "metadata": {
  "kernelspec": {
   "display_name": "Python 3",
   "language": "python",
   "name": "python3"
  },
  "language_info": {
   "codemirror_mode": {
    "name": "ipython",
    "version": 3
   },
   "file_extension": ".py",
   "mimetype": "text/x-python",
   "name": "python",
   "nbconvert_exporter": "python",
   "pygments_lexer": "ipython3",
   "version": "3.10.11"
  }
 },
 "nbformat": 4,
 "nbformat_minor": 2
}
