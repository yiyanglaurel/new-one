{
 "cells": [
  {
   "cell_type": "code",
   "execution_count": 5,
   "metadata": {},
   "outputs": [],
   "source": [
    "import mytools"
   ]
  },
  {
   "cell_type": "code",
   "execution_count": 6,
   "metadata": {},
   "outputs": [],
   "source": [
    "数据表 = mytools.读取SPSS数据文件(R'data\\identity.sav')"
   ]
  },
  {
   "cell_type": "code",
   "execution_count": 7,
   "metadata": {},
   "outputs": [],
   "source": [
    "# 空白值处理\n",
    "数据表.dropna(thresh=5,inplace=True)"
   ]
  },
  {
   "cell_type": "code",
   "execution_count": 10,
   "metadata": {},
   "outputs": [
    {
     "data": {
      "text/plain": [
       "Index(['问卷编号', '调查员', '民族', '政治面貌', '年级', '典型中国人', '中国人特点', 'v1', 'v2', 'v3',\n",
       "       'v4', '你是否了解重活民族的传统节日', 'v5', '您觉得中国怎么样', '您认为中国有多少值得自豪的地方',\n",
       "       '您认为世界有多少比例的人尊重中国', '对您而言作为一名中国人有多重要', '会以中国人自豪吗', '会隐瞒身份吗', '会打多少分',\n",
       "       '国歌升起', '世博会', '中国传统文化', '发展信心', '你会为中国运动员呐喊助威', '遇到灾难时中国人应该伸出援手',\n",
       "       '你愿意加入其他国籍吗', '中国人要为祖国统一奋斗吗'],\n",
       "      dtype='object')"
      ]
     },
     "execution_count": 10,
     "metadata": {},
     "output_type": "execute_result"
    }
   ],
   "source": [
    "# 异常值\n",
    "数据表.columns"
   ]
  },
  {
   "cell_type": "code",
   "execution_count": 11,
   "metadata": {},
   "outputs": [
    {
     "data": {
      "text/plain": [
       "v1\n",
       "完全同意     360\n",
       "同意       346\n",
       "有点同意     111\n",
       "不同意       30\n",
       "完全不同意     18\n",
       "Name: count, dtype: int64"
      ]
     },
     "execution_count": 11,
     "metadata": {},
     "output_type": "execute_result"
    }
   ],
   "source": [
    "数据表.v1.value_counts()"
   ]
  },
  {
   "cell_type": "code",
   "execution_count": null,
   "metadata": {},
   "outputs": [],
   "source": [
    "数据表.drop_duplicates(subset=['问卷调查'],)"
   ]
  },
  {
   "cell_type": "code",
   "execution_count": null,
   "metadata": {},
   "outputs": [],
   "source": [
    "数据表."
   ]
  },
  {
   "cell_type": "code",
   "execution_count": null,
   "metadata": {},
   "outputs": [],
   "source": [
    "#  逻辑一致性清理\n",
    "数据表.您觉得中国怎么样"
   ]
  },
  {
   "cell_type": "code",
   "execution_count": null,
   "metadata": {},
   "outputs": [],
   "source": [
    "数据表.您认为中国有多少值得自豪的地方.value_counts()"
   ]
  },
  {
   "cell_type": "code",
   "execution_count": null,
   "metadata": {},
   "outputs": [],
   "source": [
    "# 根据上述变量，完成逻辑一致性检验，删除逻辑上存在矛盾的"
   ]
  }
 ],
 "metadata": {
  "kernelspec": {
   "display_name": "Python 3",
   "language": "python",
   "name": "python3"
  },
  "language_info": {
   "codemirror_mode": {
    "name": "ipython",
    "version": 3
   },
   "file_extension": ".py",
   "mimetype": "text/x-python",
   "name": "python",
   "nbconvert_exporter": "python",
   "pygments_lexer": "ipython3",
   "version": "3.10.11"
  }
 },
 "nbformat": 4,
 "nbformat_minor": 2
}
