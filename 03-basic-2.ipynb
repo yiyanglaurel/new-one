{
 "cells": [
  {
   "cell_type": "code",
   "execution_count": 1,
   "metadata": {},
   "outputs": [
    {
     "name": "stdout",
     "output_type": "stream",
     "text": [
      "3 + 2 =5\n",
      "3 - 2 =1\n",
      "3 * 2 =6\n",
      "3 / 2 =1.5\n",
      "3 // 2 =1\n"
     ]
    }
   ],
   "source": [
    "print('3 + 2 =' +str(3+2))\n",
    "print('3 - 2 =' +str(3-2))\n",
    "print('3 * 2 =' +str(3*2))\n",
    "print('3 / 2 =' +str(3/2))\n",
    "print('3 // 2 =' +str(3//2))"
   ]
  },
  {
   "cell_type": "code",
   "execution_count": 2,
   "metadata": {},
   "outputs": [
    {
     "data": {
      "text/plain": [
       "1"
      ]
     },
     "execution_count": 2,
     "metadata": {},
     "output_type": "execute_result"
    }
   ],
   "source": [
    "count = 0\n",
    "count += 1\n",
    "count"
   ]
  },
  {
   "cell_type": "code",
   "execution_count": 3,
   "metadata": {},
   "outputs": [
    {
     "name": "stdout",
     "output_type": "stream",
     "text": [
      "下雪了，睡觉！\n"
     ]
    }
   ],
   "source": [
    "天气 ='下雪'\n",
    "if 天气 =='晴天':\n",
    "  print('风吹古木晴雨天，月照平沙夏雨夜。')\n",
    "elif 天气 =='下雪':\n",
    "  print('下雪了，睡觉！')\n",
    "else:\n",
    "  print('去上课，好疲惫')\n",
    "\n",
    "\n"
   ]
  },
  {
   "cell_type": "code",
   "execution_count": null,
   "metadata": {},
   "outputs": [],
   "source": []
  }
 ],
 "metadata": {
  "kernelspec": {
   "display_name": "Python 3",
   "language": "python",
   "name": "python3"
  },
  "language_info": {
   "codemirror_mode": {
    "name": "ipython",
    "version": 3
   },
   "file_extension": ".py",
   "mimetype": "text/x-python",
   "name": "python",
   "nbconvert_exporter": "python",
   "pygments_lexer": "ipython3",
   "version": "3.10.11"
  },
  "orig_nbformat": 4
 },
 "nbformat": 4,
 "nbformat_minor": 2
}
